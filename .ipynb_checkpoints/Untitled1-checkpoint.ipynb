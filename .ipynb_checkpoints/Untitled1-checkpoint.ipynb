{
 "cells": [
  {
   "cell_type": "code",
   "execution_count": 87,
   "metadata": {},
   "outputs": [
    {
     "data": {
      "text/html": [
       "        <script type=\"text/javascript\">\n",
       "        window.PlotlyConfig = {MathJaxConfig: 'local'};\n",
       "        if (window.MathJax) {MathJax.Hub.Config({SVG: {font: \"STIX-Web\"}});}\n",
       "        if (typeof require !== 'undefined') {\n",
       "        require.undef(\"plotly\");\n",
       "        requirejs.config({\n",
       "            paths: {\n",
       "                'plotly': ['https://cdn.plot.ly/plotly-latest.min']\n",
       "            }\n",
       "        });\n",
       "        require(['plotly'], function(Plotly) {\n",
       "            window._Plotly = Plotly;\n",
       "        });\n",
       "        }\n",
       "        </script>\n",
       "        "
      ]
     },
     "metadata": {},
     "output_type": "display_data"
    }
   ],
   "source": [
    "#importing basic libraries\n",
    "import numpy as np\n",
    "import pandas as pd\n",
    "import pandas_profiling as pp\n",
    "import matplotlib.pyplot as plt\n",
    "import missingno as mn\n",
    "import seaborn as sns\n",
    "%matplotlib inline\n",
    "import matplotlib.pyplot as plt\n",
    "import matplotlib.patches as patches\n",
    "#Plotly Graphing Libraries\n",
    "from plotly.offline import init_notebook_mode, iplot\n",
    "import cufflinks\n",
    "cufflinks.go_offline()\n",
    "cufflinks.set_config_file(world_readable=True, theme='pearl')\n",
    "import plotly.graph_objs as go\n",
    "import plotly\n",
    "import plotly.express as px\n",
    "import plotly.figure_factory as ffb"
   ]
  },
  {
   "cell_type": "code",
   "execution_count": 122,
   "metadata": {},
   "outputs": [
    {
     "data": {
      "application/vnd.jupyter.widget-view+json": {
       "model_id": "38f73016cc2f47af8bc22ab1da1130ef",
       "version_major": 2,
       "version_minor": 0
      },
      "text/plain": [
       "HBox(children=(HTML(value='Summarize dataset'), FloatProgress(value=0.0, max=24.0), HTML(value='')))"
      ]
     },
     "metadata": {},
     "output_type": "display_data"
    },
    {
     "name": "stdout",
     "output_type": "stream",
     "text": [
      "\n"
     ]
    },
    {
     "data": {
      "application/vnd.jupyter.widget-view+json": {
       "model_id": "e322b9fa932c4fbd98796b10b704e513",
       "version_major": 2,
       "version_minor": 0
      },
      "text/plain": [
       "HBox(children=(HTML(value='Generate report structure'), FloatProgress(value=0.0, max=1.0), HTML(value='')))"
      ]
     },
     "metadata": {},
     "output_type": "display_data"
    },
    {
     "name": "stdout",
     "output_type": "stream",
     "text": [
      "\n"
     ]
    },
    {
     "data": {
      "application/vnd.jupyter.widget-view+json": {
       "model_id": "481da333d3f540babd01dc86122fc2c5",
       "version_major": 2,
       "version_minor": 0
      },
      "text/plain": [
       "HBox(children=(HTML(value='Render HTML'), FloatProgress(value=0.0, max=1.0), HTML(value='')))"
      ]
     },
     "metadata": {},
     "output_type": "display_data"
    },
    {
     "name": "stdout",
     "output_type": "stream",
     "text": [
      "\n"
     ]
    },
    {
     "data": {
      "application/vnd.jupyter.widget-view+json": {
       "model_id": "2002ea6f77e946eaae3775a6bc3fae04",
       "version_major": 2,
       "version_minor": 0
      },
      "text/plain": [
       "HBox(children=(HTML(value='Export report to file'), FloatProgress(value=0.0, max=1.0), HTML(value='')))"
      ]
     },
     "metadata": {},
     "output_type": "display_data"
    },
    {
     "name": "stdout",
     "output_type": "stream",
     "text": [
      "\n"
     ]
    }
   ],
   "source": [
    "# display 300 column and rows\n",
    "pd.set_option('display.max_rows', 300)\n",
    "test=pd.read_csv('./test.csv')\n",
    "train=pd.read_csv('./train.csv')\n",
    "profile=pp.ProfileReport(train)\n",
    "profile.to_file(output_file=\"test.html\")"
   ]
  },
  {
   "cell_type": "code",
   "execution_count": 89,
   "metadata": {},
   "outputs": [],
   "source": [
    "train['loan_status'] = train['loan_status'].replace('FullyPaid','1').replace('ChargedOff','0')\n",
    "train['loan_status'] = train['loan_status'].astype(np.float64)"
   ]
  },
  {
   "cell_type": "code",
   "execution_count": 90,
   "metadata": {},
   "outputs": [],
   "source": [
    "train['loan_amount']=train['loan_amnt']*(1+(train['interest_rate'])*0.01)\n",
    "train['application_type'].replace(['Individual', 'Joint App'], [0, 1], inplace=True)\n",
    "train['term'] = train['term'].str.replace('years', '').astype(np.float64)\n",
    "train['employment_length'] = train['employment_length'].str.replace('years', '')\n",
    "train['employment_length'] = train['employment_length'].str.replace('year', '')\n",
    "train['employment_length'] = train['employment_length'].astype(np.float64)\n",
    "test['loan_amount']=test['loan_amnt']*(1+(test['interest_rate'])*0.01)\n",
    "test['application_type'].replace(['Individual', 'Joint App'], [0, 1], inplace=True)\n",
    "test['term'] = test['term'].str.replace('years', '').astype(np.float64)\n",
    "test['employment_length'] = test['employment_length'].str.replace('years', '')\n",
    "test['employment_length'] = test['employment_length'].str.replace('year', '')\n",
    "test['employment_length'] = test['employment_length'].astype(np.float64)"
   ]
  },
  {
   "cell_type": "code",
   "execution_count": null,
   "metadata": {},
   "outputs": [],
   "source": [
    "train['grade'].replace(['A1', 'A2', 'A3', 'A4', 'A5'], [29, 28, 27, 26, 25], inplace=True)\n",
    "train['grade'].replace(['B1', 'B2', 'B3', 'B4', 'B5'], [24, 23, 22, 21, 20], inplace=True)\n",
    "train['grade'].replace(['C1', 'C2', 'C3', 'C4', 'C5'], [19, 18, 17, 16, 15], inplace=True)\n",
    "train['grade'].replace(['D1', 'D2', 'D3', 'D4', 'D5'], [14, 13, 12, 11, 10], inplace=True)\n",
    "train['grade'].replace(['E1', 'E2', 'E3', 'E4', 'E5'], [9, 8, 7, 6, 5], inplace=True)\n",
    "train['grade'].replace(['F1', 'F2', 'F3', 'F4', 'F5'], [4, 3, 2, 1, 0], inplace=True)\n",
    "train['grade'].astype(np.float64)\n",
    "train['grade']=train['grade']/train['grade'].max()\n",
    "# temp=temp.sort_values('grade')\n",
    "train['employment_length']=train['employment_length']/train['employment_length'].max()\n",
    "train['credit_score']=train['credit_score']/train['credit_score'].max()\n",
    "train['total_credit']=train['grade']+train['employment_length']+train['credit_score']\n",
    "test['grade'].replace(['A1', 'A2', 'A3', 'A4', 'A5'], [29, 28, 27, 26, 25], inplace=True)\n",
    "test['grade'].replace(['B1', 'B2', 'B3', 'B4', 'B5'], [24, 23, 22, 21, 20], inplace=True)\n",
    "test['grade'].replace(['C1', 'C2', 'C3', 'C4', 'C5'], [19, 18, 17, 16, 15], inplace=True)\n",
    "test['grade'].replace(['D1', 'D2', 'D3', 'D4', 'D5'], [14, 13, 12, 11, 10], inplace=True)\n",
    "test['grade'].replace(['E1', 'E2', 'E3', 'E4', 'E5'], [9, 8, 7, 6, 5], inplace=True)\n",
    "test['grade'].replace(['F1', 'F2', 'F3', 'F4', 'F5'], [4, 3, 2, 1, 0], inplace=True)\n",
    "test['grade'].astype(np.float64)\n",
    "test['grade']=test['grade']/test['grade'].max()\n",
    "# temp=temp.sort_values('grade')\n",
    "test['employment_length']=test['employment_length']/test['employment_length'].max()\n",
    "test['credit_score']=test['credit_score']/test['credit_score'].max()\n",
    "test['total_credit']=test['grade']+test['employment_length']+test['credit_score']"
   ]
  },
  {
   "cell_type": "code",
   "execution_count": 91,
   "metadata": {},
   "outputs": [],
   "source": [
    "delete_columns = ['grade', 'purpose']\n",
    "train.drop(delete_columns, axis=1, inplace=True)\n",
    "\n",
    "X_train=train.drop('loan_status',axis=1)\n",
    "y_train=train['loan_status']"
   ]
  },
  {
   "cell_type": "markdown",
   "metadata": {},
   "source": [
    "# random,logistic"
   ]
  },
  {
   "cell_type": "code",
   "execution_count": 61,
   "metadata": {},
   "outputs": [],
   "source": [
    "from sklearn.linear_model import LogisticRegression\n",
    "from sklearn.ensemble import RandomForestClassifier\n",
    "\n",
    "clf = LogisticRegression(penalty='12',solver='sag',random_state=0)\n",
    "# clf = RandomForestClassifier(n_estimators=100,max_depth=2,random_state=0)"
   ]
  },
  {
   "cell_type": "code",
   "execution_count": 63,
   "metadata": {
    "collapsed": true,
    "jupyter": {
     "outputs_hidden": true
    }
   },
   "outputs": [
    {
     "ename": "ValueError",
     "evalue": "Logistic Regression supports only penalties in ['l1', 'l2', 'elasticnet', 'none'], got 12.",
     "output_type": "error",
     "traceback": [
      "\u001b[0;31m---------------------------------------------------------------------------\u001b[0m",
      "\u001b[0;31mValueError\u001b[0m                                Traceback (most recent call last)",
      "\u001b[0;32m<ipython-input-63-218005319f91>\u001b[0m in \u001b[0;36m<module>\u001b[0;34m\u001b[0m\n\u001b[1;32m      1\u001b[0m \u001b[0;31m# X_train.info()\u001b[0m\u001b[0;34m\u001b[0m\u001b[0;34m\u001b[0m\u001b[0;34m\u001b[0m\u001b[0m\n\u001b[0;32m----> 2\u001b[0;31m \u001b[0mclf\u001b[0m\u001b[0;34m.\u001b[0m\u001b[0mfit\u001b[0m\u001b[0;34m(\u001b[0m\u001b[0mX_train\u001b[0m\u001b[0;34m,\u001b[0m\u001b[0my_train\u001b[0m\u001b[0;34m)\u001b[0m\u001b[0;34m\u001b[0m\u001b[0;34m\u001b[0m\u001b[0m\n\u001b[0m",
      "\u001b[0;32m/opt/anaconda3/lib/python3.7/site-packages/sklearn/linear_model/logistic.py\u001b[0m in \u001b[0;36mfit\u001b[0;34m(self, X, y, sample_weight)\u001b[0m\n\u001b[1;32m   1491\u001b[0m         \u001b[0mThe\u001b[0m \u001b[0mSAGA\u001b[0m \u001b[0msolver\u001b[0m \u001b[0msupports\u001b[0m \u001b[0mboth\u001b[0m \u001b[0mfloat64\u001b[0m \u001b[0;32mand\u001b[0m \u001b[0mfloat32\u001b[0m \u001b[0mbit\u001b[0m \u001b[0marrays\u001b[0m\u001b[0;34m.\u001b[0m\u001b[0;34m\u001b[0m\u001b[0;34m\u001b[0m\u001b[0m\n\u001b[1;32m   1492\u001b[0m         \"\"\"\n\u001b[0;32m-> 1493\u001b[0;31m         \u001b[0msolver\u001b[0m \u001b[0;34m=\u001b[0m \u001b[0m_check_solver\u001b[0m\u001b[0;34m(\u001b[0m\u001b[0mself\u001b[0m\u001b[0;34m.\u001b[0m\u001b[0msolver\u001b[0m\u001b[0;34m,\u001b[0m \u001b[0mself\u001b[0m\u001b[0;34m.\u001b[0m\u001b[0mpenalty\u001b[0m\u001b[0;34m,\u001b[0m \u001b[0mself\u001b[0m\u001b[0;34m.\u001b[0m\u001b[0mdual\u001b[0m\u001b[0;34m)\u001b[0m\u001b[0;34m\u001b[0m\u001b[0;34m\u001b[0m\u001b[0m\n\u001b[0m\u001b[1;32m   1494\u001b[0m \u001b[0;34m\u001b[0m\u001b[0m\n\u001b[1;32m   1495\u001b[0m         \u001b[0;32mif\u001b[0m \u001b[0;32mnot\u001b[0m \u001b[0misinstance\u001b[0m\u001b[0;34m(\u001b[0m\u001b[0mself\u001b[0m\u001b[0;34m.\u001b[0m\u001b[0mC\u001b[0m\u001b[0;34m,\u001b[0m \u001b[0mnumbers\u001b[0m\u001b[0;34m.\u001b[0m\u001b[0mNumber\u001b[0m\u001b[0;34m)\u001b[0m \u001b[0;32mor\u001b[0m \u001b[0mself\u001b[0m\u001b[0;34m.\u001b[0m\u001b[0mC\u001b[0m \u001b[0;34m<\u001b[0m \u001b[0;36m0\u001b[0m\u001b[0;34m:\u001b[0m\u001b[0;34m\u001b[0m\u001b[0;34m\u001b[0m\u001b[0m\n",
      "\u001b[0;32m/opt/anaconda3/lib/python3.7/site-packages/sklearn/linear_model/logistic.py\u001b[0m in \u001b[0;36m_check_solver\u001b[0;34m(solver, penalty, dual)\u001b[0m\n\u001b[1;32m    440\u001b[0m     \u001b[0;32mif\u001b[0m \u001b[0mpenalty\u001b[0m \u001b[0;32mnot\u001b[0m \u001b[0;32min\u001b[0m \u001b[0mall_penalties\u001b[0m\u001b[0;34m:\u001b[0m\u001b[0;34m\u001b[0m\u001b[0;34m\u001b[0m\u001b[0m\n\u001b[1;32m    441\u001b[0m         raise ValueError(\"Logistic Regression supports only penalties in %s,\"\n\u001b[0;32m--> 442\u001b[0;31m                          \" got %s.\" % (all_penalties, penalty))\n\u001b[0m\u001b[1;32m    443\u001b[0m \u001b[0;34m\u001b[0m\u001b[0m\n\u001b[1;32m    444\u001b[0m     \u001b[0;32mif\u001b[0m \u001b[0msolver\u001b[0m \u001b[0;32mnot\u001b[0m \u001b[0;32min\u001b[0m \u001b[0;34m[\u001b[0m\u001b[0;34m'liblinear'\u001b[0m\u001b[0;34m,\u001b[0m \u001b[0;34m'saga'\u001b[0m\u001b[0;34m]\u001b[0m \u001b[0;32mand\u001b[0m \u001b[0mpenalty\u001b[0m \u001b[0;32mnot\u001b[0m \u001b[0;32min\u001b[0m \u001b[0;34m(\u001b[0m\u001b[0;34m'l2'\u001b[0m\u001b[0;34m,\u001b[0m \u001b[0;34m'none'\u001b[0m\u001b[0;34m)\u001b[0m\u001b[0;34m:\u001b[0m\u001b[0;34m\u001b[0m\u001b[0;34m\u001b[0m\u001b[0m\n",
      "\u001b[0;31mValueError\u001b[0m: Logistic Regression supports only penalties in ['l1', 'l2', 'elasticnet', 'none'], got 12."
     ]
    }
   ],
   "source": [
    "# X_train.info()\n",
    "clf.fit(X_train,y_train)"
   ]
  },
  {
   "cell_type": "markdown",
   "metadata": {},
   "source": [
    "# lightgbm"
   ]
  },
  {
   "cell_type": "code",
   "execution_count": 83,
   "metadata": {},
   "outputs": [
    {
     "data": {
      "text/html": [
       "<div>\n",
       "<style scoped>\n",
       "    .dataframe tbody tr th:only-of-type {\n",
       "        vertical-align: middle;\n",
       "    }\n",
       "\n",
       "    .dataframe tbody tr th {\n",
       "        vertical-align: top;\n",
       "    }\n",
       "\n",
       "    .dataframe thead th {\n",
       "        text-align: right;\n",
       "    }\n",
       "</style>\n",
       "<table border=\"1\" class=\"dataframe\">\n",
       "  <thead>\n",
       "    <tr style=\"text-align: right;\">\n",
       "      <th></th>\n",
       "      <th>id</th>\n",
       "      <th>loan_amnt</th>\n",
       "      <th>term</th>\n",
       "      <th>interest_rate</th>\n",
       "      <th>grade</th>\n",
       "      <th>employment_length</th>\n",
       "      <th>purpose</th>\n",
       "      <th>credit_score</th>\n",
       "      <th>application_type</th>\n",
       "      <th>loan_amount</th>\n",
       "    </tr>\n",
       "  </thead>\n",
       "  <tbody>\n",
       "    <tr>\n",
       "      <th>0</th>\n",
       "      <td>242150</td>\n",
       "      <td>1161.830205</td>\n",
       "      <td>3.0</td>\n",
       "      <td>13.105362</td>\n",
       "      <td>C1</td>\n",
       "      <td>10.0</td>\n",
       "      <td>credit_card</td>\n",
       "      <td>682.016083</td>\n",
       "      <td>0</td>\n",
       "      <td>1314.092259</td>\n",
       "    </tr>\n",
       "    <tr>\n",
       "      <th>1</th>\n",
       "      <td>242151</td>\n",
       "      <td>2257.465815</td>\n",
       "      <td>5.0</td>\n",
       "      <td>14.196200</td>\n",
       "      <td>C5</td>\n",
       "      <td>10.0</td>\n",
       "      <td>debt_consolidation</td>\n",
       "      <td>668.240313</td>\n",
       "      <td>0</td>\n",
       "      <td>2577.940174</td>\n",
       "    </tr>\n",
       "    <tr>\n",
       "      <th>2</th>\n",
       "      <td>242152</td>\n",
       "      <td>2182.137002</td>\n",
       "      <td>3.0</td>\n",
       "      <td>8.307772</td>\n",
       "      <td>A5</td>\n",
       "      <td>10.0</td>\n",
       "      <td>credit_card</td>\n",
       "      <td>703.277694</td>\n",
       "      <td>0</td>\n",
       "      <td>2363.423977</td>\n",
       "    </tr>\n",
       "    <tr>\n",
       "      <th>3</th>\n",
       "      <td>242153</td>\n",
       "      <td>520.284912</td>\n",
       "      <td>3.0</td>\n",
       "      <td>6.956504</td>\n",
       "      <td>A2</td>\n",
       "      <td>7.0</td>\n",
       "      <td>debt_consolidation</td>\n",
       "      <td>731.138779</td>\n",
       "      <td>0</td>\n",
       "      <td>556.478555</td>\n",
       "    </tr>\n",
       "    <tr>\n",
       "      <th>4</th>\n",
       "      <td>242154</td>\n",
       "      <td>2303.349549</td>\n",
       "      <td>3.0</td>\n",
       "      <td>11.658497</td>\n",
       "      <td>B3</td>\n",
       "      <td>6.0</td>\n",
       "      <td>debt_consolidation</td>\n",
       "      <td>698.368991</td>\n",
       "      <td>0</td>\n",
       "      <td>2571.885477</td>\n",
       "    </tr>\n",
       "    <tr>\n",
       "      <th>...</th>\n",
       "      <td>...</td>\n",
       "      <td>...</td>\n",
       "      <td>...</td>\n",
       "      <td>...</td>\n",
       "      <td>...</td>\n",
       "      <td>...</td>\n",
       "      <td>...</td>\n",
       "      <td>...</td>\n",
       "      <td>...</td>\n",
       "      <td>...</td>\n",
       "    </tr>\n",
       "    <tr>\n",
       "      <th>26895</th>\n",
       "      <td>269045</td>\n",
       "      <td>1169.767130</td>\n",
       "      <td>3.0</td>\n",
       "      <td>13.609916</td>\n",
       "      <td>B4</td>\n",
       "      <td>1.0</td>\n",
       "      <td>credit_card</td>\n",
       "      <td>656.939828</td>\n",
       "      <td>0</td>\n",
       "      <td>1328.971459</td>\n",
       "    </tr>\n",
       "    <tr>\n",
       "      <th>26896</th>\n",
       "      <td>269046</td>\n",
       "      <td>2235.153322</td>\n",
       "      <td>3.0</td>\n",
       "      <td>7.248690</td>\n",
       "      <td>A2</td>\n",
       "      <td>10.0</td>\n",
       "      <td>credit_card</td>\n",
       "      <td>765.770393</td>\n",
       "      <td>0</td>\n",
       "      <td>2397.172662</td>\n",
       "    </tr>\n",
       "    <tr>\n",
       "      <th>26897</th>\n",
       "      <td>269047</td>\n",
       "      <td>3272.971410</td>\n",
       "      <td>3.0</td>\n",
       "      <td>9.957002</td>\n",
       "      <td>B4</td>\n",
       "      <td>6.0</td>\n",
       "      <td>debt_consolidation</td>\n",
       "      <td>793.887391</td>\n",
       "      <td>0</td>\n",
       "      <td>3598.861237</td>\n",
       "    </tr>\n",
       "    <tr>\n",
       "      <th>26898</th>\n",
       "      <td>269048</td>\n",
       "      <td>1607.397707</td>\n",
       "      <td>3.0</td>\n",
       "      <td>10.892554</td>\n",
       "      <td>B3</td>\n",
       "      <td>10.0</td>\n",
       "      <td>debt_consolidation</td>\n",
       "      <td>658.815541</td>\n",
       "      <td>0</td>\n",
       "      <td>1782.484368</td>\n",
       "    </tr>\n",
       "    <tr>\n",
       "      <th>26899</th>\n",
       "      <td>269049</td>\n",
       "      <td>637.176361</td>\n",
       "      <td>3.0</td>\n",
       "      <td>7.913091</td>\n",
       "      <td>A5</td>\n",
       "      <td>9.0</td>\n",
       "      <td>debt_consolidation</td>\n",
       "      <td>713.249287</td>\n",
       "      <td>0</td>\n",
       "      <td>687.596707</td>\n",
       "    </tr>\n",
       "  </tbody>\n",
       "</table>\n",
       "<p>26900 rows × 10 columns</p>\n",
       "</div>"
      ],
      "text/plain": [
       "           id    loan_amnt  term  interest_rate grade  employment_length  \\\n",
       "0      242150  1161.830205   3.0      13.105362    C1               10.0   \n",
       "1      242151  2257.465815   5.0      14.196200    C5               10.0   \n",
       "2      242152  2182.137002   3.0       8.307772    A5               10.0   \n",
       "3      242153   520.284912   3.0       6.956504    A2                7.0   \n",
       "4      242154  2303.349549   3.0      11.658497    B3                6.0   \n",
       "...       ...          ...   ...            ...   ...                ...   \n",
       "26895  269045  1169.767130   3.0      13.609916    B4                1.0   \n",
       "26896  269046  2235.153322   3.0       7.248690    A2               10.0   \n",
       "26897  269047  3272.971410   3.0       9.957002    B4                6.0   \n",
       "26898  269048  1607.397707   3.0      10.892554    B3               10.0   \n",
       "26899  269049   637.176361   3.0       7.913091    A5                9.0   \n",
       "\n",
       "                  purpose  credit_score  application_type  loan_amount  \n",
       "0             credit_card    682.016083                 0  1314.092259  \n",
       "1      debt_consolidation    668.240313                 0  2577.940174  \n",
       "2             credit_card    703.277694                 0  2363.423977  \n",
       "3      debt_consolidation    731.138779                 0   556.478555  \n",
       "4      debt_consolidation    698.368991                 0  2571.885477  \n",
       "...                   ...           ...               ...          ...  \n",
       "26895         credit_card    656.939828                 0  1328.971459  \n",
       "26896         credit_card    765.770393                 0  2397.172662  \n",
       "26897  debt_consolidation    793.887391                 0  3598.861237  \n",
       "26898  debt_consolidation    658.815541                 0  1782.484368  \n",
       "26899  debt_consolidation    713.249287                 0   687.596707  \n",
       "\n",
       "[26900 rows x 10 columns]"
      ]
     },
     "execution_count": 83,
     "metadata": {},
     "output_type": "execute_result"
    }
   ],
   "source": [
    "test"
   ]
  },
  {
   "cell_type": "code",
   "execution_count": 92,
   "metadata": {},
   "outputs": [],
   "source": [
    "from sklearn.model_selection import train_test_split\n",
    "\n",
    "\n",
    "X_train, X_valid, y_train, y_valid = \\\n",
    "    train_test_split(X_train, y_train, test_size=0.3,\n",
    "                                 random_state=0, stratify=y_train)"
   ]
  },
  {
   "cell_type": "code",
   "execution_count": 116,
   "metadata": {},
   "outputs": [],
   "source": [
    "# categorical_features = ['term', 'interest_rate', 'credit_score','loan_amount','loan_amount','employment_length','application_type']\n",
    "categorical_features = ['term','credit_score','loan_amount']\n",
    "# categorical_features = ['term', 'interest_rate', 'credit_score','loan_amount','loan_amount']\n",
    "\n",
    "# categorical_features = ['term']"
   ]
  },
  {
   "cell_type": "code",
   "execution_count": 117,
   "metadata": {},
   "outputs": [
    {
     "name": "stdout",
     "output_type": "stream",
     "text": [
      "[LightGBM] [Info] Number of positive: 139856, number of negative: 29649\n",
      "[LightGBM] [Warning] Auto-choosing row-wise multi-threading, the overhead of testing was 0.021713 seconds.\n",
      "You can set `force_row_wise=true` to remove the overhead.\n",
      "And if memory is not enough, you can set `force_col_wise=true`.\n",
      "[LightGBM] [Info] Total Bins 4409\n",
      "[LightGBM] [Info] Number of data points in the train set: 169505, number of used features: 8\n",
      "[LightGBM] [Info] [binary:BoostFromScore]: pavg=0.825085 -> initscore=1.551185\n",
      "[LightGBM] [Info] Start training from score 1.551185\n",
      "Training until validation scores don't improve for 10 rounds\n",
      "[10]\ttraining's binary_logloss: 0.432618\tvalid_1's binary_logloss: 0.439193\n",
      "[20]\ttraining's binary_logloss: 0.418169\tvalid_1's binary_logloss: 0.430676\n",
      "[30]\ttraining's binary_logloss: 0.409193\tvalid_1's binary_logloss: 0.427422\n",
      "[40]\ttraining's binary_logloss: 0.402428\tvalid_1's binary_logloss: 0.426388\n",
      "[50]\ttraining's binary_logloss: 0.39714\tvalid_1's binary_logloss: 0.4264\n",
      "Early stopping, best iteration is:\n",
      "[48]\ttraining's binary_logloss: 0.398126\tvalid_1's binary_logloss: 0.426319\n"
     ]
    }
   ],
   "source": [
    "import lightgbm as lgb\n",
    "\n",
    "\n",
    "lgb_train = lgb.Dataset(X_train, y_train,\n",
    "                                         categorical_feature=categorical_features)\n",
    "lgb_eval = lgb.Dataset(X_valid, y_valid, reference=lgb_train,\n",
    "                                         categorical_feature=categorical_features)\n",
    "\n",
    "params = {\n",
    "    'objective': 'binary',\n",
    "    'max_bin': 300,\n",
    "    'learning_rate': 0.05,\n",
    "    'num_leaves': 40\n",
    "}\n",
    "\n",
    "model = lgb.train(params, lgb_train,\n",
    "                               valid_sets=[lgb_train, lgb_eval],\n",
    "                               verbose_eval=10,\n",
    "                               num_boost_round=1000,\n",
    "                               early_stopping_rounds=10)\n",
    "\n",
    "y_pred = model.predict(X_test, num_iteration=model.best_iteration)"
   ]
  },
  {
   "cell_type": "code",
   "execution_count": 118,
   "metadata": {},
   "outputs": [
    {
     "name": "stdout",
     "output_type": "stream",
     "text": [
      "[0 1]\n",
      "[  492 26408]\n"
     ]
    }
   ],
   "source": [
    "y_pred = (y_pred > 0.5).astype(int)\n",
    "u, counts = np.unique(y_pred, return_counts=True)\n",
    "# print(np.unique(y_pred))\n",
    "print(u)\n",
    "print(counts)"
   ]
  },
  {
   "cell_type": "code",
   "execution_count": 24,
   "metadata": {},
   "outputs": [],
   "source": [
    "X_test=test\n",
    "delete_columns = ['grade', 'purpose']\n",
    "test.drop(delete_columns, axis=1, inplace=True)"
   ]
  },
  {
   "cell_type": "code",
   "execution_count": 25,
   "metadata": {},
   "outputs": [],
   "source": [
    "y_pred = clf.predict(X_test)"
   ]
  },
  {
   "cell_type": "code",
   "execution_count": 26,
   "metadata": {},
   "outputs": [
    {
     "data": {
      "text/plain": [
       "array([1., 1., 1., ..., 1., 1., 1.], dtype=float32)"
      ]
     },
     "execution_count": 26,
     "metadata": {},
     "output_type": "execute_result"
    }
   ],
   "source": [
    "temp=y_pred"
   ]
  },
  {
   "cell_type": "code",
   "execution_count": 33,
   "metadata": {},
   "outputs": [],
   "source": [
    "# submit=pd.read_csv('./submit.csv')\n",
    "# with open('./submit.csv') as f:\n",
    "#     submit=f.read()"
   ]
  },
  {
   "cell_type": "code",
   "execution_count": 45,
   "metadata": {},
   "outputs": [],
   "source": [
    "submit = pd.read_csv('./submit.csv', header=None, names=['id', 'loan_status'])"
   ]
  },
  {
   "cell_type": "code",
   "execution_count": 119,
   "metadata": {},
   "outputs": [],
   "source": [
    "# submit['loan_status']=y_pred.astype('int64')\n",
    "submit['loan_status']=y_pred\n",
    "# submit.columns = [''] * len(submit.columns)\n",
    "# submit\n",
    "submit.to_csv('file.csv', header=False, index=False)"
   ]
  }
 ],
 "metadata": {
  "kernelspec": {
   "display_name": "Python 3",
   "language": "python",
   "name": "python3"
  },
  "language_info": {
   "codemirror_mode": {
    "name": "ipython",
    "version": 3
   },
   "file_extension": ".py",
   "mimetype": "text/x-python",
   "name": "python",
   "nbconvert_exporter": "python",
   "pygments_lexer": "ipython3",
   "version": "3.7.4"
  }
 },
 "nbformat": 4,
 "nbformat_minor": 4
}
